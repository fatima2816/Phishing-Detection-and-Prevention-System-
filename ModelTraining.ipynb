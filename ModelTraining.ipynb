{
 "cells": [
  {
   "cell_type": "code",
   "execution_count": 76,
   "metadata": {},
   "outputs": [
    {
     "name": "stdout",
     "output_type": "stream",
     "text": [
      "Training Accuracy: 100.00%\n",
      "Test Accuracy: 91.00%\n",
      "Decision Tree Precision: 0.85, Recall: 0.99, F1 Score: 0.91\n"
     ]
    }
   ],
   "source": [
    "import pandas as pd\n",
    "from sklearn.model_selection import train_test_split\n",
    "from sklearn.tree import DecisionTreeClassifier\n",
    "from sklearn.feature_extraction.text import TfidfVectorizer\n",
    "from sklearn.metrics import accuracy_score\n",
    "import joblib\n",
    "from sklearn.metrics import precision_score, recall_score, f1_score\n",
    "\n",
    "csv_file_path = 'combined_data.csv'\n",
    "df = pd.read_csv(csv_file_path)\n",
    "# X = df.drop(['Domain','Label'], axis=1)\n",
    "# y = df['Label']\n",
    "\n",
    "# Extract features from URLs (example: using TF-IDF)\n",
    "vectorizer = TfidfVectorizer()\n",
    "X = vectorizer.fit_transform(df['Domain'])\n",
    "\n",
    "# Split the dataset\n",
    "X_train, X_test, y_train, y_test = train_test_split(X,y, test_size=0.2, random_state=42)\n",
    "\n",
    "# Train a Decision Tree model\n",
    "model = DecisionTreeClassifier()\n",
    "model.fit(X_train, y_train)\n",
    "\n",
    "# Make predictions on the training set\n",
    "y_train_pred = model.predict(X_train)\n",
    "\n",
    "# Evaluate the model on the training set\n",
    "accuracy_train = accuracy_score(y_train, y_train_pred)\n",
    "\n",
    "# Make predictions on the test set\n",
    "y_test_pred = model.predict(X_test)\n",
    "accuracy_test = accuracy_score(y_test, y_test_pred)\n",
    "print(f\"Training Accuracy: {accuracy_train * 100:.2f}%\")\n",
    "print(f\"Test Accuracy: {accuracy_test * 100:.2f}%\")\n",
    "\n",
    "precision_dt = precision_score(y_test, y_test_pred)\n",
    "recall_dt = recall_score(y_test, y_test_pred)\n",
    "f1_dt = f1_score(y_test, y_test_pred)\n",
    "print(f\"Decision Tree Precision: {precision_dt:.2f}, Recall: {recall_dt:.2f}, F1 Score: {f1_dt:.2f}\")"
   ]
  },
  {
   "cell_type": "code",
   "execution_count": 58,
   "metadata": {},
   "outputs": [
    {
     "data": {
      "text/plain": [
       "['decision_tree_model.joblib']"
      ]
     },
     "execution_count": 58,
     "metadata": {},
     "output_type": "execute_result"
    }
   ],
   "source": [
    "#joblib.dump(model, 'decision_tree_model.joblib')"
   ]
  },
  {
   "cell_type": "code",
   "execution_count": 77,
   "metadata": {},
   "outputs": [
    {
     "name": "stdout",
     "output_type": "stream",
     "text": [
      "Training Accuracy: 86.84%\n",
      "Test Accuracy: 88.00%\n",
      "SVM Precision: 1.00, Recall: 0.74, F1 Score: 0.85\n"
     ]
    }
   ],
   "source": [
    "from sklearn.svm import SVC\n",
    "from sklearn.model_selection import train_test_split\n",
    "from sklearn.metrics import precision_score, recall_score, f1_score\n",
    "\n",
    "csv_file_path = 'combined_data.csv'\n",
    "df = pd.read_csv(csv_file_path)\n",
    "X = df.drop(['Domain','Label'], axis=1)\n",
    "y = df['Label']\n",
    "X_train, X_test, y_train, y_test = train_test_split(X, y, test_size=0.2, random_state=42)\n",
    "\n",
    "svm = SVC(kernel='linear', C=1.0, random_state=12)\n",
    "svm.fit(X_train, y_train)\n",
    "\n",
    "y_test_svm = svm.predict(X_test)\n",
    "y_train_svm = svm.predict(X_train)\n",
    "\n",
    "acc_train_svm = accuracy_score(y_train,y_train_svm)\n",
    "acc_test_svm = accuracy_score(y_test,y_test_svm)\n",
    "\n",
    "print(f\"Training Accuracy: {acc_train_svm * 100:.2f}%\")\n",
    "print(f\"Test Accuracy: {acc_test_svm * 100:.2f}%\")\n",
    "\n",
    "\n",
    "precision_svm = precision_score(y_test, y_test_svm)\n",
    "recall_svm = recall_score(y_test, y_test_svm)\n",
    "f1_svm = f1_score(y_test, y_test_svm)\n",
    "\n",
    "print(f\"SVM Precision: {precision_svm:.2f}, Recall: {recall_svm:.2f}, F1 Score: {f1_svm:.2f}\")"
   ]
  },
  {
   "cell_type": "code",
   "execution_count": 78,
   "metadata": {},
   "outputs": [
    {
     "name": "stdout",
     "output_type": "stream",
     "text": [
      "Training Accuracy: 92.86%\n",
      "Test Accuracy: 91.00%\n",
      "Random Forest Precision: 0.96, Recall: 0.84, F1 Score: 0.90\n"
     ]
    }
   ],
   "source": [
    "from sklearn.model_selection import train_test_split\n",
    "from sklearn.ensemble import RandomForestClassifier\n",
    "from sklearn.metrics import accuracy_score\n",
    "from sklearn.metrics import precision_score, recall_score, f1_score\n",
    "\n",
    "csv_file_path = 'combined_data.csv'\n",
    "df = pd.read_csv(csv_file_path)\n",
    "X = df.drop(['Domain','Label'], axis=1)\n",
    "y = df['Label']\n",
    "\n",
    "# Split the dataset into training and testing sets\n",
    "X_train, X_test, y_train, y_test = train_test_split(X, y, test_size=0.2, random_state=42)\n",
    "\n",
    "rf_classifier = RandomForestClassifier(n_estimators=100, random_state=42)\n",
    "rf_classifier.fit(X_train, y_train)\n",
    "y_train_pred = rf_classifier.predict(X_train)\n",
    "y_test_pred = rf_classifier.predict(X_test)\n",
    "\n",
    "# Calculate and print the training accuracy\n",
    "train_accuracy = accuracy_score(y_train, y_train_pred)\n",
    "print(f\"Training Accuracy: {train_accuracy * 100:.2f}%\")\n",
    "\n",
    "# Calculate and print the test accuracy\n",
    "test_accuracy = accuracy_score(y_test, y_test_pred)\n",
    "print(f\"Test Accuracy: {test_accuracy * 100:.2f}%\")\n",
    "\n",
    "precision_rf = precision_score(y_test, y_test_pred)\n",
    "recall_rf = recall_score(y_test, y_test_pred)\n",
    "f1_rf = f1_score(y_test, y_test_pred)\n",
    "\n",
    "print(f\"Random Forest Precision: {precision_rf:.2f}, Recall: {recall_rf:.2f}, F1 Score: {f1_rf:.2f}\")\n"
   ]
  },
  {
   "cell_type": "code",
   "execution_count": 2,
   "metadata": {},
   "outputs": [
    {
     "name": "stdout",
     "output_type": "stream",
     "text": [
      "Training Accuracy: 87.59%\n",
      "Test Accuracy: 90.00%\n",
      "Logistic Regression Precision: 1.00, Recall: 0.79, F1 Score: 0.88\n"
     ]
    }
   ],
   "source": [
    "from sklearn.model_selection import train_test_split\n",
    "from sklearn.linear_model import LogisticRegression\n",
    "from sklearn.metrics import accuracy_score, precision_score, recall_score, f1_score\n",
    "import pandas as pd\n",
    "\n",
    "csv_file_path = 'combined_data.csv'\n",
    "df = pd.read_csv(csv_file_path)\n",
    "X = df.drop(['Domain', 'Label'], axis=1)\n",
    "y = df['Label']\n",
    "\n",
    "# Split the dataset into training and testing sets\n",
    "X_train, X_test, y_train, y_test = train_test_split(X, y, test_size=0.2, random_state=42)\n",
    "\n",
    "# Replace RandomForestClassifier with Logistic Regression\n",
    "logistic_classifier = LogisticRegression(random_state=42)\n",
    "logistic_classifier.fit(X_train, y_train)\n",
    "\n",
    "y_train_pred = logistic_classifier.predict(X_train)\n",
    "y_test_pred = logistic_classifier.predict(X_test)\n",
    "\n",
    "# Calculate and print the training accuracy\n",
    "train_accuracy = accuracy_score(y_train, y_train_pred)\n",
    "print(f\"Training Accuracy: {train_accuracy * 100:.2f}%\")\n",
    "\n",
    "# Calculate and print the test accuracy\n",
    "test_accuracy = accuracy_score(y_test, y_test_pred)\n",
    "print(f\"Test Accuracy: {test_accuracy * 100:.2f}%\")\n",
    "\n",
    "# Calculate and print precision, recall, and F1 score for Logistic Regression\n",
    "precision_logistic = precision_score(y_test, y_test_pred)\n",
    "recall_logistic = recall_score(y_test, y_test_pred)\n",
    "f1_logistic = f1_score(y_test, y_test_pred)\n",
    "\n",
    "print(f\"Logistic Regression Precision: {precision_logistic:.2f}, Recall: {recall_logistic:.2f}, F1 Score: {f1_logistic:.2f}\")"
   ]
  },
  {
   "cell_type": "code",
   "execution_count": 63,
   "metadata": {},
   "outputs": [
    {
     "ename": "ModuleNotFoundError",
     "evalue": "No module named 'xgboost'",
     "output_type": "error",
     "traceback": [
      "\u001b[0;31m---------------------------------------------------------------------------\u001b[0m",
      "\u001b[0;31mModuleNotFoundError\u001b[0m                       Traceback (most recent call last)",
      "\u001b[1;32m/Users/zuhaumar/Downloads/IS_Project/ModelTraining.ipynb Cell 5\u001b[0m line \u001b[0;36m1\n\u001b[0;32m----> <a href='vscode-notebook-cell:/Users/zuhaumar/Downloads/IS_Project/ModelTraining.ipynb#X30sZmlsZQ%3D%3D?line=0'>1</a>\u001b[0m \u001b[39mfrom\u001b[39;00m \u001b[39mxgboost\u001b[39;00m \u001b[39mimport\u001b[39;00m XGBClassifier\n\u001b[1;32m      <a href='vscode-notebook-cell:/Users/zuhaumar/Downloads/IS_Project/ModelTraining.ipynb#X30sZmlsZQ%3D%3D?line=1'>2</a>\u001b[0m \u001b[39mfrom\u001b[39;00m \u001b[39msklearn\u001b[39;00m\u001b[39m.\u001b[39;00m\u001b[39mmodel_selection\u001b[39;00m \u001b[39mimport\u001b[39;00m train_test_split\n\u001b[1;32m      <a href='vscode-notebook-cell:/Users/zuhaumar/Downloads/IS_Project/ModelTraining.ipynb#X30sZmlsZQ%3D%3D?line=2'>3</a>\u001b[0m \u001b[39mfrom\u001b[39;00m \u001b[39msklearn\u001b[39;00m\u001b[39m.\u001b[39;00m\u001b[39mmetrics\u001b[39;00m \u001b[39mimport\u001b[39;00m accuracy_score\n",
      "\u001b[0;31mModuleNotFoundError\u001b[0m: No module named 'xgboost'"
     ]
    }
   ],
   "source": [
    "from xgboost import XGBClassifier\n",
    "from sklearn.model_selection import train_test_split\n",
    "from sklearn.metrics import accuracy_score\n",
    "\n",
    "csv_file_path = 'combined_data.csv'\n",
    "df = pd.read_csv(csv_file_path)\n",
    "X = df.drop(['Domain','Label'], axis=1)\n",
    "y = df['Label']\n",
    "\n",
    "# Split the dataset into training and testing sets\n",
    "X_train, X_test, y_train, y_test = train_test_split(X, y, test_size=0.2, random_state=42)\n",
    "\n",
    "# Instantiate the XGBoost classifier\n",
    "xgb = XGBClassifier(learning_rate=0.4, max_depth=7)\n",
    "\n",
    "# Fit the model to the training data\n",
    "xgb.fit(X_train, y_train)\n",
    "\n",
    "# Make predictions on the training set\n",
    "y_train_pred = xgb.predict(X_train)\n",
    "\n",
    "# Evaluate the model on the training set\n",
    "accuracy_train = accuracy_score(y_train, y_train_pred)\n",
    "\n",
    "# Make predictions on the test set\n",
    "y_test_pred = xgb.predict(X_test)\n",
    "\n",
    "# Evaluate the model on the test set\n",
    "accuracy_test = accuracy_score(y_test, y_test_pred)\n",
    "print(f\"Training Accuracy: {accuracy_train * 100:.2f}%\")\n",
    "print(f\"Test Accuracy: {accuracy_test * 100:.2f}%\")"
   ]
  }
 ],
 "metadata": {
  "kernelspec": {
   "display_name": "Python 3 (ipykernel)",
   "language": "python",
   "name": "python3"
  },
  "language_info": {
   "codemirror_mode": {
    "name": "ipython",
    "version": 3
   },
   "file_extension": ".py",
   "mimetype": "text/x-python",
   "name": "python",
   "nbconvert_exporter": "python",
   "pygments_lexer": "ipython3",
   "version": "3.10.10"
  }
 },
 "nbformat": 4,
 "nbformat_minor": 2
}
